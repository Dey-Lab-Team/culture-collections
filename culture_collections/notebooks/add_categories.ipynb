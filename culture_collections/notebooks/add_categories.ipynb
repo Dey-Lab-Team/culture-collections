{
 "cells": [
  {
   "cell_type": "code",
   "execution_count": 1,
   "metadata": {},
   "outputs": [
    {
     "name": "stderr",
     "output_type": "stream",
     "text": [
      "/tmp/ipykernel_27124/1177998677.py:1: DeprecationWarning: \n",
      "Pyarrow will become a required dependency of pandas in the next major release of pandas (pandas 3.0),\n",
      "(to allow more performant data types, such as the Arrow string type, and better interoperability with other libraries)\n",
      "but was not found to be installed on your system.\n",
      "If this would cause problems for you,\n",
      "please provide us feedback at https://github.com/pandas-dev/pandas/issues/54466\n",
      "        \n",
      "  import pandas as pd\n"
     ]
    }
   ],
   "source": [
    "import pandas as pd\n",
    "import json"
   ]
  },
  {
   "cell_type": "code",
   "execution_count": 26,
   "metadata": {},
   "outputs": [],
   "source": [
    "# load table & mobie dataset\n",
    "table = pd.read_csv('categories.csv', sep='\\t', dtype=str)  # type: ignore\n",
    "with open('/home/hellgoth/Documents/work/projects/culture-collections_project/culture-collections/data/volumes/dataset.json', 'r') as f:\n",
    "    dataset = json.load(f)"
   ]
  },
  {
   "cell_type": "code",
   "execution_count": 27,
   "metadata": {},
   "outputs": [
    {
     "data": {
      "text/html": [
       "<div>\n",
       "<style scoped>\n",
       "    .dataframe tbody tr th:only-of-type {\n",
       "        vertical-align: middle;\n",
       "    }\n",
       "\n",
       "    .dataframe tbody tr th {\n",
       "        vertical-align: top;\n",
       "    }\n",
       "\n",
       "    .dataframe thead th {\n",
       "        text-align: right;\n",
       "    }\n",
       "</style>\n",
       "<table border=\"1\" class=\"dataframe\">\n",
       "  <thead>\n",
       "    <tr style=\"text-align: right;\">\n",
       "      <th></th>\n",
       "      <th>Clade according figure 1</th>\n",
       "      <th>new_filename_iteration5_afterEverythingElse_justDeconvAlign</th>\n",
       "      <th>Cell cycle stage</th>\n",
       "      <th>Spools</th>\n",
       "      <th>Cortical centrin</th>\n",
       "      <th>Apical centrin ring</th>\n",
       "    </tr>\n",
       "  </thead>\n",
       "  <tbody>\n",
       "    <tr>\n",
       "      <th>0</th>\n",
       "      <td>Glaucophyta</td>\n",
       "      <td>rcc6731_pfa_dna-tub-nhs_20230616_od_s00</td>\n",
       "      <td>mitotic onset</td>\n",
       "      <td>No</td>\n",
       "      <td>-</td>\n",
       "      <td>-</td>\n",
       "    </tr>\n",
       "    <tr>\n",
       "      <th>1</th>\n",
       "      <td>Glaucophyta</td>\n",
       "      <td>rcc6731_pfa_dna-tub-nhs_20230616_od_s01</td>\n",
       "      <td>Mitosis</td>\n",
       "      <td>No</td>\n",
       "      <td>-</td>\n",
       "      <td>-</td>\n",
       "    </tr>\n",
       "    <tr>\n",
       "      <th>2</th>\n",
       "      <td>Glaucophyta</td>\n",
       "      <td>rcc6731_pfa_dna-tub-nhs_20230616_od_s02</td>\n",
       "      <td>Interphase</td>\n",
       "      <td>No</td>\n",
       "      <td>-</td>\n",
       "      <td>-</td>\n",
       "    </tr>\n",
       "    <tr>\n",
       "      <th>3</th>\n",
       "      <td>Glaucophyta</td>\n",
       "      <td>rcc6731_pfa_dna-tub-nhs_20230616_od_s03</td>\n",
       "      <td>Interphase</td>\n",
       "      <td>No</td>\n",
       "      <td>-</td>\n",
       "      <td>-</td>\n",
       "    </tr>\n",
       "    <tr>\n",
       "      <th>4</th>\n",
       "      <td>Glaucophyta</td>\n",
       "      <td>rcc6731_pfa_dna-tub-nhs_20230616_od_s04</td>\n",
       "      <td>Interphase</td>\n",
       "      <td>No</td>\n",
       "      <td>-</td>\n",
       "      <td>-</td>\n",
       "    </tr>\n",
       "    <tr>\n",
       "      <th>...</th>\n",
       "      <td>...</td>\n",
       "      <td>...</td>\n",
       "      <td>...</td>\n",
       "      <td>...</td>\n",
       "      <td>...</td>\n",
       "      <td>...</td>\n",
       "    </tr>\n",
       "    <tr>\n",
       "      <th>1762</th>\n",
       "      <td>NaN</td>\n",
       "      <td>rcc696rcc10662_pfa_dna-tub-nhs-na_20230720_csd_01</td>\n",
       "      <td>Interphase</td>\n",
       "      <td>No</td>\n",
       "      <td>-</td>\n",
       "      <td>-</td>\n",
       "    </tr>\n",
       "    <tr>\n",
       "      <th>1763</th>\n",
       "      <td>NaN</td>\n",
       "      <td>rcc696rcc10662_pfa_dna-tub-nhs_20230728_csd_01</td>\n",
       "      <td>Interphase</td>\n",
       "      <td>No</td>\n",
       "      <td>-</td>\n",
       "      <td>-</td>\n",
       "    </tr>\n",
       "    <tr>\n",
       "      <th>1764</th>\n",
       "      <td>NaN</td>\n",
       "      <td>rccp2-b1_pfa_dna-cetn-nhs-tub_20240209_od_s00</td>\n",
       "      <td>Interphase</td>\n",
       "      <td>No</td>\n",
       "      <td>No</td>\n",
       "      <td>No</td>\n",
       "    </tr>\n",
       "    <tr>\n",
       "      <th>1765</th>\n",
       "      <td>NaN</td>\n",
       "      <td>rccp2-b1_pfa_dna-cetn-nhs-tub_20240209_od_s01</td>\n",
       "      <td>Interphase</td>\n",
       "      <td>No</td>\n",
       "      <td>No</td>\n",
       "      <td>No</td>\n",
       "    </tr>\n",
       "    <tr>\n",
       "      <th>1766</th>\n",
       "      <td>NaN</td>\n",
       "      <td>rccp2-b1_pfa_dna-cetn-nhs-tub_20240209_od_s02</td>\n",
       "      <td>Interphase</td>\n",
       "      <td>No</td>\n",
       "      <td>No</td>\n",
       "      <td>No</td>\n",
       "    </tr>\n",
       "  </tbody>\n",
       "</table>\n",
       "<p>1767 rows × 6 columns</p>\n",
       "</div>"
      ],
      "text/plain": [
       "     Clade according figure 1  \\\n",
       "0                 Glaucophyta   \n",
       "1                 Glaucophyta   \n",
       "2                 Glaucophyta   \n",
       "3                 Glaucophyta   \n",
       "4                 Glaucophyta   \n",
       "...                       ...   \n",
       "1762                      NaN   \n",
       "1763                      NaN   \n",
       "1764                      NaN   \n",
       "1765                      NaN   \n",
       "1766                      NaN   \n",
       "\n",
       "     new_filename_iteration5_afterEverythingElse_justDeconvAlign  \\\n",
       "0               rcc6731_pfa_dna-tub-nhs_20230616_od_s00            \n",
       "1               rcc6731_pfa_dna-tub-nhs_20230616_od_s01            \n",
       "2               rcc6731_pfa_dna-tub-nhs_20230616_od_s02            \n",
       "3               rcc6731_pfa_dna-tub-nhs_20230616_od_s03            \n",
       "4               rcc6731_pfa_dna-tub-nhs_20230616_od_s04            \n",
       "...                                                 ...            \n",
       "1762  rcc696rcc10662_pfa_dna-tub-nhs-na_20230720_csd_01            \n",
       "1763     rcc696rcc10662_pfa_dna-tub-nhs_20230728_csd_01            \n",
       "1764      rccp2-b1_pfa_dna-cetn-nhs-tub_20240209_od_s00            \n",
       "1765      rccp2-b1_pfa_dna-cetn-nhs-tub_20240209_od_s01            \n",
       "1766      rccp2-b1_pfa_dna-cetn-nhs-tub_20240209_od_s02            \n",
       "\n",
       "     Cell cycle stage Spools Cortical centrin Apical centrin ring  \n",
       "0       mitotic onset     No                -                   -  \n",
       "1             Mitosis     No                -                   -  \n",
       "2          Interphase     No                -                   -  \n",
       "3          Interphase     No                -                   -  \n",
       "4          Interphase     No                -                   -  \n",
       "...               ...    ...              ...                 ...  \n",
       "1762       Interphase     No                -                   -  \n",
       "1763       Interphase     No                -                   -  \n",
       "1764       Interphase     No               No                  No  \n",
       "1765       Interphase     No               No                  No  \n",
       "1766       Interphase     No               No                  No  \n",
       "\n",
       "[1767 rows x 6 columns]"
      ]
     },
     "execution_count": 27,
     "metadata": {},
     "output_type": "execute_result"
    }
   ],
   "source": [
    "table"
   ]
  },
  {
   "cell_type": "code",
   "execution_count": 28,
   "metadata": {},
   "outputs": [
    {
     "data": {
      "text/html": [
       "<div>\n",
       "<style scoped>\n",
       "    .dataframe tbody tr th:only-of-type {\n",
       "        vertical-align: middle;\n",
       "    }\n",
       "\n",
       "    .dataframe tbody tr th {\n",
       "        vertical-align: top;\n",
       "    }\n",
       "\n",
       "    .dataframe thead th {\n",
       "        text-align: right;\n",
       "    }\n",
       "</style>\n",
       "<table border=\"1\" class=\"dataframe\">\n",
       "  <thead>\n",
       "    <tr style=\"text-align: right;\">\n",
       "      <th></th>\n",
       "      <th>Clade according figure 1</th>\n",
       "      <th>new_filename_iteration5_afterEverythingElse_justDeconvAlign</th>\n",
       "      <th>Cell cycle stage</th>\n",
       "      <th>Spools</th>\n",
       "      <th>Cortical centrin</th>\n",
       "      <th>Apical centrin ring</th>\n",
       "    </tr>\n",
       "  </thead>\n",
       "  <tbody>\n",
       "    <tr>\n",
       "      <th>count</th>\n",
       "      <td>1729</td>\n",
       "      <td>1757</td>\n",
       "      <td>1767</td>\n",
       "      <td>1579</td>\n",
       "      <td>1711</td>\n",
       "      <td>1712</td>\n",
       "    </tr>\n",
       "    <tr>\n",
       "      <th>unique</th>\n",
       "      <td>10</td>\n",
       "      <td>1757</td>\n",
       "      <td>7</td>\n",
       "      <td>3</td>\n",
       "      <td>3</td>\n",
       "      <td>4</td>\n",
       "    </tr>\n",
       "    <tr>\n",
       "      <th>top</th>\n",
       "      <td>Alveolata</td>\n",
       "      <td>rcc6731_pfa_dna-tub-nhs_20230616_od_s00</td>\n",
       "      <td>Interphase</td>\n",
       "      <td>No</td>\n",
       "      <td>-</td>\n",
       "      <td>-</td>\n",
       "    </tr>\n",
       "    <tr>\n",
       "      <th>freq</th>\n",
       "      <td>670</td>\n",
       "      <td>1</td>\n",
       "      <td>1390</td>\n",
       "      <td>1524</td>\n",
       "      <td>927</td>\n",
       "      <td>936</td>\n",
       "    </tr>\n",
       "  </tbody>\n",
       "</table>\n",
       "</div>"
      ],
      "text/plain": [
       "       Clade according figure 1  \\\n",
       "count                      1729   \n",
       "unique                       10   \n",
       "top                   Alveolata   \n",
       "freq                        670   \n",
       "\n",
       "       new_filename_iteration5_afterEverythingElse_justDeconvAlign  \\\n",
       "count                                                1757            \n",
       "unique                                               1757            \n",
       "top               rcc6731_pfa_dna-tub-nhs_20230616_od_s00            \n",
       "freq                                                    1            \n",
       "\n",
       "       Cell cycle stage Spools Cortical centrin Apical centrin ring  \n",
       "count              1767   1579             1711                1712  \n",
       "unique                7      3                3                   4  \n",
       "top          Interphase     No                -                   -  \n",
       "freq               1390   1524              927                 936  "
      ]
     },
     "execution_count": 28,
     "metadata": {},
     "output_type": "execute_result"
    }
   ],
   "source": [
    "table.describe()"
   ]
  },
  {
   "cell_type": "code",
   "execution_count": 29,
   "metadata": {},
   "outputs": [
    {
     "data": {
      "text/html": [
       "<div>\n",
       "<style scoped>\n",
       "    .dataframe tbody tr th:only-of-type {\n",
       "        vertical-align: middle;\n",
       "    }\n",
       "\n",
       "    .dataframe tbody tr th {\n",
       "        vertical-align: top;\n",
       "    }\n",
       "\n",
       "    .dataframe thead th {\n",
       "        text-align: right;\n",
       "    }\n",
       "</style>\n",
       "<table border=\"1\" class=\"dataframe\">\n",
       "  <thead>\n",
       "    <tr style=\"text-align: right;\">\n",
       "      <th></th>\n",
       "      <th>Clade according figure 1</th>\n",
       "      <th>new_filename_iteration5_afterEverythingElse_justDeconvAlign</th>\n",
       "      <th>Cell cycle stage</th>\n",
       "      <th>Spools</th>\n",
       "      <th>Cortical centrin</th>\n",
       "      <th>Apical centrin ring</th>\n",
       "    </tr>\n",
       "  </thead>\n",
       "  <tbody>\n",
       "    <tr>\n",
       "      <th>1157</th>\n",
       "      <td>Alveolata</td>\n",
       "      <td>vf21108_pfa_tub-cetn_20251803_cl_03</td>\n",
       "      <td>unknown</td>\n",
       "      <td>No</td>\n",
       "      <td>Yes</td>\n",
       "      <td>-</td>\n",
       "    </tr>\n",
       "  </tbody>\n",
       "</table>\n",
       "</div>"
      ],
      "text/plain": [
       "     Clade according figure 1  \\\n",
       "1157                Alveolata   \n",
       "\n",
       "     new_filename_iteration5_afterEverythingElse_justDeconvAlign  \\\n",
       "1157                vf21108_pfa_tub-cetn_20251803_cl_03            \n",
       "\n",
       "     Cell cycle stage Spools Cortical centrin Apical centrin ring  \n",
       "1157          unknown     No              Yes                   -  "
      ]
     },
     "execution_count": 29,
     "metadata": {},
     "output_type": "execute_result"
    }
   ],
   "source": [
    "table.loc[table[\"new_filename_iteration5_afterEverythingElse_justDeconvAlign\"] == \"vf21108_pfa_tub-cetn_20251803_cl_03\"]"
   ]
  },
  {
   "cell_type": "code",
   "execution_count": 30,
   "metadata": {},
   "outputs": [
    {
     "data": {
      "text/plain": [
       "Clade according figure 1\n",
       "Alveolata        670\n",
       "Viridiplantae    328\n",
       "Haptophyta       175\n",
       "Stramenopiles    172\n",
       "Cryptista        141\n",
       "Environmental    117\n",
       "Discoba           94\n",
       "Rhodophyta        25\n",
       "Glaucophyta        5\n",
       "Rhizaria           2\n",
       "Name: count, dtype: int64"
      ]
     },
     "execution_count": 30,
     "metadata": {},
     "output_type": "execute_result"
    }
   ],
   "source": [
    "table[\"Clade according figure 1\"].value_counts()"
   ]
  },
  {
   "cell_type": "code",
   "execution_count": 31,
   "metadata": {},
   "outputs": [
    {
     "data": {
      "text/plain": [
       "Spools\n",
       "No       1524\n",
       "Yes        54\n",
       "Maybe       1\n",
       "Name: count, dtype: int64"
      ]
     },
     "execution_count": 31,
     "metadata": {},
     "output_type": "execute_result"
    }
   ],
   "source": [
    "table[\"Spools\"].value_counts()"
   ]
  },
  {
   "cell_type": "code",
   "execution_count": 32,
   "metadata": {},
   "outputs": [
    {
     "data": {
      "text/plain": [
       "Cortical centrin\n",
       "-      927\n",
       "No     644\n",
       "Yes    140\n",
       "Name: count, dtype: int64"
      ]
     },
     "execution_count": 32,
     "metadata": {},
     "output_type": "execute_result"
    }
   ],
   "source": [
    "table[\"Cortical centrin\"].value_counts()"
   ]
  },
  {
   "cell_type": "code",
   "execution_count": 33,
   "metadata": {},
   "outputs": [
    {
     "data": {
      "text/plain": [
       "Apical centrin ring\n",
       "-      936\n",
       "No     700\n",
       "Yes     75\n",
       ".        1\n",
       "Name: count, dtype: int64"
      ]
     },
     "execution_count": 33,
     "metadata": {},
     "output_type": "execute_result"
    }
   ],
   "source": [
    "table[\"Apical centrin ring\"].value_counts()"
   ]
  },
  {
   "cell_type": "code",
   "execution_count": 34,
   "metadata": {},
   "outputs": [
    {
     "data": {
      "text/plain": [
       "Cell cycle stage\n",
       "Interphase             1390\n",
       "unknown                 269\n",
       "Mitosis                  79\n",
       "mitotic onset             9\n",
       "Interphase, Mitosis       9\n",
       "Meiosis?                  7\n",
       "Cyst                      4\n",
       "Name: count, dtype: int64"
      ]
     },
     "execution_count": 34,
     "metadata": {},
     "output_type": "execute_result"
    }
   ],
   "source": [
    "table[\"Cell cycle stage\"].value_counts()"
   ]
  },
  {
   "cell_type": "code",
   "execution_count": 35,
   "metadata": {},
   "outputs": [
    {
     "data": {
      "text/plain": [
       "{'Interphase': 1362,\n",
       " 'unknown': 170,\n",
       " 'Mitosis': 76,\n",
       " 'mitotic onset': 8,\n",
       " 'Interphase, Mitosis': 8,\n",
       " 'Meiosis?': 7,\n",
       " 'Cyst': 4}"
      ]
     },
     "execution_count": 35,
     "metadata": {},
     "output_type": "execute_result"
    }
   ],
   "source": [
    "new_dataset = dataset.copy()\n",
    "stages = {}\n",
    "for view_name, view in new_dataset[\"views\"].items():\n",
    "    row = table.loc[table[\"new_filename_iteration5_afterEverythingElse_justDeconvAlign\"] == view_name]\n",
    "    if not row.empty:\n",
    "        stage = row[\"Cell cycle stage\"].values[0]\n",
    "        if stage not in stages:\n",
    "            stages[stage] = 0\n",
    "        stages[stage] += 1\n",
    "stages"
   ]
  },
  {
   "cell_type": "code",
   "execution_count": 39,
   "metadata": {},
   "outputs": [],
   "source": [
    "# iterate over all views and change to selection groups, add categories\n",
    "new_dataset = dataset.copy()\n",
    "for view_name, view in new_dataset[\"views\"].items():\n",
    "    if \"uiSelectionGroups\" not in view:\n",
    "        view[\"uiSelectionGroups\"] = [\"all_volumes\"]\n",
    "        del view[\"uiSelectionGroup\"]\n",
    "    if view_name == \"default\":\n",
    "        continue\n",
    "\n",
    "    row = table.loc[table[\"new_filename_iteration5_afterEverythingElse_justDeconvAlign\"] == view_name]\n",
    "    if not row.empty:\n",
    "        clade = row[\"Clade according figure 1\"].values[0]\n",
    "        if clade != \"Glaucophyta\" and clade != \"Rhizaria\" and not pd.isna(clade):\n",
    "            view[\"uiSelectionGroups\"].append(clade.lower())\n",
    "        if row[\"Spools\"].values[0] == \"Yes\":\n",
    "            view[\"uiSelectionGroups\"].append(\"spools\")\n",
    "        if row[\"Cortical centrin\"].values[0] == \"Yes\":\n",
    "            view[\"uiSelectionGroups\"].append(\"cortical_centrin\")\n",
    "        if row[\"Apical centrin ring\"].values[0] == \"Yes\":\n",
    "            view[\"uiSelectionGroups\"].append(\"apical_centrin_ring\")\n",
    "        stage = row[\"Cell cycle stage\"].values[0]\n",
    "        if stage == \"Mitosis\" or stage == \"mitotic onset\" or stage == \"Interphase, Mitosis\":\n",
    "            view[\"uiSelectionGroups\"].append(\"mitosis\")\n",
    "        "
   ]
  },
  {
   "cell_type": "code",
   "execution_count": 40,
   "metadata": {},
   "outputs": [
    {
     "data": {
      "text/plain": [
       "True"
      ]
     },
     "execution_count": 40,
     "metadata": {},
     "output_type": "execute_result"
    }
   ],
   "source": [
    "\"default\" in new_dataset[\"views\"]"
   ]
  },
  {
   "cell_type": "code",
   "execution_count": 41,
   "metadata": {},
   "outputs": [],
   "source": [
    "# save to file and test\n",
    "with open('/home/hellgoth/Documents/work/projects/culture-collections_project/culture-collections/data/volumes_with_categories/dataset.json', 'w') as f:\n",
    "    json.dump(new_dataset, f, indent=2)"
   ]
  },
  {
   "cell_type": "code",
   "execution_count": 42,
   "metadata": {},
   "outputs": [],
   "source": [
    "# save to file and test\n",
    "with open('/home/hellgoth/Documents/work/projects/culture-collections_project/culture-collections/data/volumes/dataset.json', 'w') as f:\n",
    "    json.dump(new_dataset, f, indent=2)"
   ]
  }
 ],
 "metadata": {
  "kernelspec": {
   "display_name": "culture-collections",
   "language": "python",
   "name": "python3"
  },
  "language_info": {
   "codemirror_mode": {
    "name": "ipython",
    "version": 3
   },
   "file_extension": ".py",
   "mimetype": "text/x-python",
   "name": "python",
   "nbconvert_exporter": "python",
   "pygments_lexer": "ipython3",
   "version": "3.11.7"
  }
 },
 "nbformat": 4,
 "nbformat_minor": 2
}
