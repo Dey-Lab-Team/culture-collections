{
 "cells": [
  {
   "cell_type": "code",
   "execution_count": 14,
   "id": "3b41c7ce",
   "metadata": {},
   "outputs": [],
   "source": [
    "# imports\n",
    "import os\n",
    "import json"
   ]
  },
  {
   "cell_type": "code",
   "execution_count": 15,
   "id": "83e2224f",
   "metadata": {},
   "outputs": [],
   "source": [
    "# open MoBIE project\n",
    "with open('/home/hellgoth/Documents/work/projects/culture-collections_project/culture-collections/data/volumes/dataset.json', 'r') as f:\n",
    "    dataset = json.load(f)"
   ]
  },
  {
   "cell_type": "code",
   "execution_count": 17,
   "id": "29c4ec83",
   "metadata": {},
   "outputs": [
    {
     "name": "stdout",
     "output_type": "stream",
     "text": [
      "Len of views: 1636\n",
      "Total number of views: 1635\n",
      "Number of deconvolved views: 196\n",
      "Number of deconvolved views that are duplicates: 126\n",
      "Number of unique views: 1509\n",
      "Number of files: 1186\n"
     ]
    }
   ],
   "source": [
    "views = dataset['views']\n",
    "print(f\"Len of views: {len(views)}\")\n",
    "if \"default\" in views:\n",
    "    n = len(views)-1\n",
    "else:\n",
    "    n = len(views)\n",
    "print(f\"Total number of views: {n}\")\n",
    "\n",
    "deconv_counter = 0\n",
    "duplicate_counter = 0\n",
    "for view_name, view in views.items():\n",
    "    if \"_deconv\" in view_name or \"_align\" in view_name:\n",
    "        deconv_counter += 1\n",
    "        if view_name.replace(\"_deconv\", \"\").replace(\"_align\", \"\") in views:\n",
    "            duplicate_counter += 1\n",
    "print(f\"Number of deconvolved views: {deconv_counter}\")\n",
    "print(f\"Number of deconvolved views that are duplicates: {duplicate_counter}\")\n",
    "print(f\"Number of unique views: {n - duplicate_counter}\")\n",
    "\n",
    "print(f\"Number of files: {len(os.listdir('/home/hellgoth/culture-collections/data/single_volumes/images/ome-zarr'))}\")"
   ]
  },
  {
   "cell_type": "code",
   "execution_count": null,
   "id": "f565315a",
   "metadata": {},
   "outputs": [],
   "source": []
  }
 ],
 "metadata": {
  "kernelspec": {
   "display_name": "culture-collections",
   "language": "python",
   "name": "python3"
  },
  "language_info": {
   "codemirror_mode": {
    "name": "ipython",
    "version": 3
   },
   "file_extension": ".py",
   "mimetype": "text/x-python",
   "name": "python",
   "nbconvert_exporter": "python",
   "pygments_lexer": "ipython3",
   "version": "3.11.7"
  }
 },
 "nbformat": 4,
 "nbformat_minor": 5
}
